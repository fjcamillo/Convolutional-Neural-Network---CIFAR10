{
 "cells": [
  {
   "cell_type": "markdown",
   "metadata": {},
   "source": [
    "# Convolutional Neural Network for CIFAR 10"
   ]
  },
  {
   "cell_type": "code",
   "execution_count": 4,
   "metadata": {
    "collapsed": true
   },
   "outputs": [],
   "source": [
    "import tensorflow as tf\n",
    "import numpy as np\n",
    "import math\n",
    "import os\n",
    "import cPickle"
   ]
  },
  {
   "cell_type": "code",
   "execution_count": 5,
   "metadata": {
    "collapsed": true
   },
   "outputs": [],
   "source": [
    "import math"
   ]
  },
  {
   "cell_type": "markdown",
   "metadata": {},
   "source": [
    "# Creating the Model"
   ]
  },
  {
   "cell_type": "markdown",
   "metadata": {},
   "source": [
    "#### Description"
   ]
  },
  {
   "cell_type": "code",
   "execution_count": 6,
   "metadata": {
    "collapsed": false
   },
   "outputs": [
    {
     "data": {
      "text/plain": [
       "'/home/fjcamillo/Desktop/cnn_cifar10/dataset/cifar-10-batches-py'"
      ]
     },
     "execution_count": 6,
     "metadata": {},
     "output_type": "execute_result"
    }
   ],
   "source": [
    "dataset_root = os.path.abspath(\"../dataset/cifar-10-batches-py/\")\n",
    "dataset_root"
   ]
  },
  {
   "cell_type": "code",
   "execution_count": 7,
   "metadata": {
    "collapsed": false
   },
   "outputs": [
    {
     "data": {
      "text/plain": [
       "['/home/fjcamillo/Desktop/cnn_cifar10/dataset/cifar-10-batches-py/data_batch_3',\n",
       " '/home/fjcamillo/Desktop/cnn_cifar10/dataset/cifar-10-batches-py/data_batch_4',\n",
       " '/home/fjcamillo/Desktop/cnn_cifar10/dataset/cifar-10-batches-py/data_batch_5',\n",
       " '/home/fjcamillo/Desktop/cnn_cifar10/dataset/cifar-10-batches-py/data_batch_1',\n",
       " '/home/fjcamillo/Desktop/cnn_cifar10/dataset/cifar-10-batches-py/data_batch_2']"
      ]
     },
     "execution_count": 7,
     "metadata": {},
     "output_type": "execute_result"
    }
   ],
   "source": [
    "dataset = [dataset_root+\"/\"+data for data in os.listdir(dataset_root) if \"data_batch\" in data]\n",
    "dataset"
   ]
  },
  {
   "cell_type": "code",
   "execution_count": 8,
   "metadata": {
    "collapsed": false
   },
   "outputs": [],
   "source": [
    "with open(dataset[3], \"r\") as fo:\n",
    "    train = cPickle.load(fo)\n",
    "    \n",
    "with open(dataset[4], \"r\") as fo:\n",
    "    test = cPickle.load(fo)"
   ]
  },
  {
   "cell_type": "code",
   "execution_count": 9,
   "metadata": {
    "collapsed": false
   },
   "outputs": [
    {
     "data": {
      "text/plain": [
       "(10000, 3072)"
      ]
     },
     "execution_count": 9,
     "metadata": {},
     "output_type": "execute_result"
    }
   ],
   "source": [
    "train[\"data\"].shape"
   ]
  },
  {
   "cell_type": "code",
   "execution_count": 10,
   "metadata": {
    "collapsed": false
   },
   "outputs": [
    {
     "data": {
      "text/plain": [
       "(10000,)"
      ]
     },
     "execution_count": 10,
     "metadata": {},
     "output_type": "execute_result"
    }
   ],
   "source": [
    "np.array(train[\"labels\"]).shape"
   ]
  },
  {
   "cell_type": "code",
   "execution_count": 11,
   "metadata": {
    "collapsed": true
   },
   "outputs": [],
   "source": [
    "training_data = [dat.reshape((32,32,3)) for dat in train[\"data\"]]"
   ]
  },
  {
   "cell_type": "code",
   "execution_count": 12,
   "metadata": {
    "collapsed": true
   },
   "outputs": [],
   "source": [
    "training_label = np.array(train[\"labels\"])"
   ]
  },
  {
   "cell_type": "code",
   "execution_count": 13,
   "metadata": {
    "collapsed": true
   },
   "outputs": [],
   "source": [
    "test_data = [dat.reshape((32,32,3)) for dat in test[\"data\"]]"
   ]
  },
  {
   "cell_type": "code",
   "execution_count": 14,
   "metadata": {
    "collapsed": true
   },
   "outputs": [],
   "source": [
    "test_label = np.array(test[\"labels\"])"
   ]
  },
  {
   "cell_type": "code",
   "execution_count": 15,
   "metadata": {
    "collapsed": false
   },
   "outputs": [
    {
     "data": {
      "text/plain": [
       "array([1, 6, 6, 8, 8, 3, 4, 6, 0, 6, 0, 3, 6, 6, 5, 4, 8, 3, 2, 6, 0, 3, 1,\n",
       "       4, 0, 6, 6, 2, 7, 6, 9, 0, 4, 5, 7, 1, 6, 7, 9, 1, 7, 7, 8, 0, 3, 7,\n",
       "       4, 7, 3, 1, 0, 4, 6, 6, 1, 4, 9, 2, 6, 4, 5, 0, 4, 6, 0, 8, 3, 4, 8,\n",
       "       8, 3, 9, 5, 7, 1, 9, 4, 7, 9, 1, 9, 7, 5, 2, 7, 3, 4, 8, 8, 2, 1, 5,\n",
       "       9, 2, 7, 8, 8, 6, 8, 8, 1, 3, 8, 8, 5, 4, 7, 1, 6, 6, 1, 6, 1, 6, 7,\n",
       "       0, 4, 6, 9, 5, 8, 7, 1, 9, 0, 3, 3, 7, 6, 9, 0, 4, 7, 1, 4, 3, 4, 3,\n",
       "       9, 8, 7, 0, 8, 3, 9, 1, 0, 8, 0, 9, 4, 0, 2, 1, 4, 2, 7, 1, 7, 0, 2,\n",
       "       9, 7, 9, 8, 6, 4, 4, 1, 1, 7, 8, 8, 6, 4, 5, 6, 3, 9, 4, 2, 5, 3, 6,\n",
       "       7, 7, 3, 9, 1, 3, 1, 8, 3, 3, 5, 6, 4, 0, 9, 6])"
      ]
     },
     "execution_count": 15,
     "metadata": {},
     "output_type": "execute_result"
    }
   ],
   "source": [
    "test_label[:200]"
   ]
  },
  {
   "cell_type": "markdown",
   "metadata": {},
   "source": [
    "# Model"
   ]
  },
  {
   "cell_type": "code",
   "execution_count": 16,
   "metadata": {
    "collapsed": true
   },
   "outputs": [],
   "source": [
    "size = (32,32,3)"
   ]
  },
  {
   "cell_type": "code",
   "execution_count": 17,
   "metadata": {
    "collapsed": true
   },
   "outputs": [],
   "source": [
    "strides = [1, 1, 1, 1]\n",
    "stddev = 1.0/math.sqrt(32*32)"
   ]
  },
  {
   "cell_type": "code",
   "execution_count": 18,
   "metadata": {
    "collapsed": false
   },
   "outputs": [],
   "source": [
    "with tf.device(\"/cpu:0\"):\n",
    "    \n",
    "    x = tf.placeholder(tf.float32, [None, 32, 32, 3])\n",
    "    y_ = tf.placeholder(tf.float32, [None])\n",
    "    W1 = tf.Variable(tf.truncated_normal([6,6,3,8],stddev=stddev))\n",
    "    \n",
    "    B1 = tf.Variable(tf.zeros(8))\n",
    "    W2 = tf.Variable(tf.truncated_normal([5,5,8,12],stddev=stddev))\n",
    "    B2 = tf.Variable(tf.zeros(12))\n",
    "    W3 = tf.Variable(tf.truncated_normal([4,4,12,14],stddev=stddev))\n",
    "    B3 = tf.Variable(tf.zeros(14))\n",
    "    W4 = tf.Variable(tf.truncated_normal([32*32*14,300],stddev=stddev))\n",
    "    B4 = tf.Variable(tf.zeros(300))\n",
    "    W5 = tf.Variable(tf.truncated_normal([300,10],stddev=stddev))\n",
    "    B5 = tf.Variable(tf.zeros(10))\n",
    "    \n",
    "    #First Convolutional Neural Network\n",
    "    conv1 = tf.nn.relu(tf.nn.conv2d(x, W1, strides=strides, padding=\"SAME\")+B1)\n",
    "    \n",
    "    #Second Convolutional Neural Network\n",
    "    conv2 = tf.nn.relu(tf.nn.conv2d(conv1,W2, strides=strides, padding=\"SAME\")+B2)\n",
    "    \n",
    "    #Third Convolutional Neural Network\n",
    "    conv3 = tf.nn.relu(tf.nn.conv2d(conv2,W3, strides=strides, padding=\"SAME\")+B3)\n",
    "    \n",
    "    #Reshape and flatten the convolutional layers into a fully connected layer\n",
    "    conv3_reshaped = tf.reshape(conv3,[-1,32*32*14])\n",
    "    \n",
    "    #First Fully Connected Layer\n",
    "    logits4 = tf.add(tf.matmul(conv3_reshaped, W4), B4)\n",
    "    fc1 = tf.nn.relu(logits4)\n",
    "    \n",
    "    #Second Fully Connected Layer\n",
    "    logits5 = tf.add(tf.matmul(fc1, W5),B5)\n",
    "    fc2 = tf.nn.softmax_cross_entropy_with_logits(logits=logits5, labels=y_)\n",
    "    loss = tf.reduce_mean(fc2)\n",
    "\n",
    "    train = tf.train.AdamOptimizer(0.001).minimize(loss)\n",
    "    \n",
    "    #Accuracy\n",
    "    correct_prediction = tf.equal(tf.argmax(y_,1),tf.argmax(fc2, 1))\n",
    "    accuracy = tf.reduce_mean(tf.cast(correct_prediction, tf.float32))"
   ]
  },
  {
   "cell_type": "code",
   "execution_count": 19,
   "metadata": {
    "collapsed": true
   },
   "outputs": [],
   "source": [
    "sess = tf.InteractiveSession()"
   ]
  },
  {
   "cell_type": "code",
   "execution_count": 20,
   "metadata": {
    "collapsed": true
   },
   "outputs": [],
   "source": [
    "sess.run(tf.global_variables_initializer())"
   ]
  },
  {
   "cell_type": "code",
   "execution_count": null,
   "metadata": {
    "collapsed": false
   },
   "outputs": [],
   "source": [
    "for i in range(200):\n",
    "    batch = 200\n",
    "#     if i%100==0:\n",
    "#         train_accuracy = accuracy.eval(feed_dict={x:training_data[:batch],y_:training_label[:batch]})\n",
    "#         print(\"Step {}: \\tTraining Accuracy = {}\".format(i, train_accuracy))\n",
    "    train.run(feed_dict={x:training_data,y_:training_label})\n",
    "\n",
    "print(\"Final Accuracy: {}\".format(accuracy.eval(feed_dict={x:test_data[:batch],y_:test_label[:batch]})))"
   ]
  },
  {
   "cell_type": "code",
   "execution_count": null,
   "metadata": {
    "collapsed": true
   },
   "outputs": [],
   "source": []
  }
 ],
 "metadata": {
  "kernelspec": {
   "display_name": "Python 2",
   "language": "python",
   "name": "python2"
  },
  "language_info": {
   "codemirror_mode": {
    "name": "ipython",
    "version": 2
   },
   "file_extension": ".py",
   "mimetype": "text/x-python",
   "name": "python",
   "nbconvert_exporter": "python",
   "pygments_lexer": "ipython2",
   "version": "2.7.13"
  }
 },
 "nbformat": 4,
 "nbformat_minor": 0
}
